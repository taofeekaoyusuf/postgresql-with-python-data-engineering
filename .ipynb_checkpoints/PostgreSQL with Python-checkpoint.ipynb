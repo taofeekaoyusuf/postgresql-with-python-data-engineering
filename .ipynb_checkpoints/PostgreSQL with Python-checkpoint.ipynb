{
 "cells": [
  {
   "cell_type": "markdown",
   "id": "bc66e36e-03fb-4462-8901-71906d2ba4bb",
   "metadata": {
    "tags": []
   },
   "source": [
    "# PostgreSQL with Python "
   ]
  },
  {
   "cell_type": "markdown",
   "id": "4d1cd0de-8551-4ea0-8a35-9d7fb5204eaa",
   "metadata": {},
   "source": [
    "## Psycopg \n",
    "\n",
    "* It is the most popular PostgreSQL database adapter for the Python programming language. \n",
    "* Its main features are the complete implementation of the Python DB API 2.0 specification and the thread safety (several threads can share the same connection). \n",
    "* It was designed for heavily multi-threaded applications that create and destroy lots of cursors and make a large number of concurrent “INSERT”s or “UPDATE”s."
   ]
  },
  {
   "cell_type": "code",
   "execution_count": 1,
   "id": "a4e9c83c-d785-4ad1-b8e9-28ba20f1b368",
   "metadata": {},
   "outputs": [
    {
     "name": "stdout",
     "output_type": "stream",
     "text": [
      "Requirement already satisfied: psycopg2-binary in /home/computech/anaconda3/lib/python3.9/site-packages (2.9.3)\n"
     ]
    }
   ],
   "source": [
    "!pip install psycopg2-binary\n",
    "#!pip install psycopg2"
   ]
  },
  {
   "cell_type": "markdown",
   "id": "00add7c9-01da-430a-b8e8-f065ba940dff",
   "metadata": {},
   "source": [
    "### Importing some useful Libraries"
   ]
  },
  {
   "cell_type": "code",
   "execution_count": 2,
   "id": "19ca2394-790a-4aab-a9f5-d5ac46c8a11b",
   "metadata": {},
   "outputs": [],
   "source": [
    "import psycopg2"
   ]
  },
  {
   "cell_type": "code",
   "execution_count": 3,
   "id": "77f9daae-2c88-4752-956b-e82d469cc7d7",
   "metadata": {},
   "outputs": [],
   "source": [
    "try:\n",
    "    conn = psycopg2.connect(\"host=127.0.0.1 dbname=postgres user=postgres password=Passdb\")\n",
    "except psycopg2.Error as e:\n",
    "    print(f\"\\n{e}\\nERROR: Could not connect to the Postgress Database\\n\")"
   ]
  },
  {
   "cell_type": "markdown",
   "id": "456a6687-e56f-48c7-80c8-4d91d3a0df68",
   "metadata": {},
   "source": [
    "### Creating a cursor to the Database\n",
    "\n",
    "* The cursor is use to help to make queries execution possible on the Database using the connection as an anchor to it."
   ]
  },
  {
   "cell_type": "code",
   "execution_count": 4,
   "id": "366538f9-b994-4c17-a910-05ea53ed7056",
   "metadata": {},
   "outputs": [],
   "source": [
    "try:\n",
    "    cur = conn.cursor()\n",
    "except psycopg2.Error as e:\n",
    "    print(f\"\\n{e}\\nERROR: Could not make a cursor to the Postgress Database\\n\")"
   ]
  },
  {
   "cell_type": "markdown",
   "id": "ae78c7d0-2f93-45bd-abfc-f024c2086be6",
   "metadata": {},
   "source": [
    "### Setting AUTOCOMMIT for the commit actions on the Database\n",
    "\n",
    "* The essence of this is to make life easy so that we will not need to commit each action we do on the Database at every step of the way."
   ]
  },
  {
   "cell_type": "code",
   "execution_count": 5,
   "id": "dbcee1c5-c35f-41d7-98e6-503d4fa09cf3",
   "metadata": {},
   "outputs": [],
   "source": [
    "conn.set_session(autocommit=True)"
   ]
  },
  {
   "cell_type": "markdown",
   "id": "4130dfa4-1ddf-4ff1-9165-928a1d90f234",
   "metadata": {},
   "source": [
    "### Creating Database"
   ]
  },
  {
   "cell_type": "code",
   "execution_count": 6,
   "id": "137e5566-3875-45a0-9f07-5f36bb9af105",
   "metadata": {},
   "outputs": [
    {
     "name": "stdout",
     "output_type": "stream",
     "text": [
      "\n",
      "database \"trialdb\" already exists\n",
      "\n",
      "ERROR: Could not create the Database\n",
      "\n"
     ]
    }
   ],
   "source": [
    "try:\n",
    "    cur.execute(\"CREATE DATABASE trialdb\")\n",
    "except psycopg2.Error as e:\n",
    "    print(f\"\\n{e}\\nERROR: Could not create the Database\\n\")"
   ]
  },
  {
   "cell_type": "markdown",
   "id": "000899bc-db75-403b-b210-6b2876b0ef13",
   "metadata": {},
   "source": [
    "### Making connection to the Database we just created"
   ]
  },
  {
   "cell_type": "code",
   "execution_count": 7,
   "id": "f6a6399d-0218-464a-8d50-54918753495a",
   "metadata": {},
   "outputs": [],
   "source": [
    "# Disconnecting from the revious Database\n",
    "try:\n",
    "    conn.close()\n",
    "except psycopg2.Error as e:\n",
    "    print(f\"\\n{e}\\nERROR: Cannot closed the connection to the former Database\")\n",
    "\n",
    "# Connecting to the New Database\n",
    "try:\n",
    "    conn = psycopg2.connect(\"host=127.0.0.1 dbname=trialdb user=computech password=Pass\")\n",
    "except psycopg2.Error as e:\n",
    "    print(f\"\\n{e}\\nERROR: Could not connect to the Database\\n\")\n",
    "\n",
    "# Initiating a Cursor to the New Database\n",
    "try:\n",
    "    cur = conn.cursor()\n",
    "except psycopg2.Error as e:\n",
    "    print(f\"\\n{e}\\nERROR: Could not make a cursor to the Database\\n\")\n",
    "    \n",
    "# Autocommit to Database\n",
    "conn.set_session(autocommit=True)"
   ]
  },
  {
   "cell_type": "markdown",
   "id": "be41613b-d867-4610-aa28-0ffaae9faaf7",
   "metadata": {},
   "source": [
    "### Creating a Table in the Database"
   ]
  },
  {
   "cell_type": "code",
   "execution_count": 8,
   "id": "1a9d6ccb-61fa-4df2-ae06-d3a0310234c7",
   "metadata": {},
   "outputs": [],
   "source": [
    "try:\n",
    "    cur.execute( \n",
    "        \"CREATE TABLE IF NOT EXISTS employee (employee_id serial PRIMARY KEY, \\\n",
    "                employee_name varchar (150) NOT NULL, \\\n",
    "                age int NOT NULL, \\\n",
    "                gender varchar (6) NOT NULL, \\\n",
    "                address varchar (250) NOT NULL, \\\n",
    "                department varchar (150) NOT NULL, \\\n",
    "                email varchar (150) UNIQUE NOT NULL, \\\n",
    "                salary decimal (10) NOT NULL, \\\n",
    "                supervisor varchar (150) NOT NULL \\\n",
    "              )\"\n",
    "    )\n",
    "except psycopg2.Error as e:\n",
    "    print(f\"\\n{e}\\nERROR: Could not create the Table\\n\")"
   ]
  },
  {
   "cell_type": "markdown",
   "id": "198ad8ba-10c6-427b-8e24-df8968489782",
   "metadata": {},
   "source": [
    "### Inserting Data into the Table in the Database"
   ]
  },
  {
   "cell_type": "code",
   "execution_count": 9,
   "id": "6063b133-4919-4dd0-9354-7bb220b8ce84",
   "metadata": {},
   "outputs": [
    {
     "name": "stdout",
     "output_type": "stream",
     "text": [
      "\n",
      "duplicate key value violates unique constraint \"employee_email_key\"\n",
      "DETAIL:  Key (email)=(nicktom@dfnt.com) already exists.\n",
      "\n",
      "ERROR: Could not insert values into the Table\n",
      "\n"
     ]
    }
   ],
   "source": [
    "try:\n",
    "    cur.execute(\n",
    "        \"INSERT INTO \\\n",
    "            employee (employee_name, age, gender, address, department, email, salary, supervisor) \\\n",
    "         VALUES \\\n",
    "            ('Nick Tom', 31, 'Male', 'Paris-France', 'Data', 'nicktom@dfnt.com', 31000, 'John Doe'), \\\n",
    "            ('Tee Pee', 44, 'Male', 'Havana-Cuba', 'HR', 'teepee@dfnt.com', 36000, 'Jane Mayne'), \\\n",
    "            ('Rem Pink', 25, 'Female', 'Oregon-USA', 'Finance', 'rempink@dfnt.com', 57000, 'Tay Fibee'), \\\n",
    "            ('Fizz Lilly', 42, 'Female', 'Lisbon-Portugal', 'HR', 'lilfizz@dfnt.com', 67000, 'Lisa Rosa'), \\\n",
    "            ('Ola Jay', 31, 'Male', 'Lagos-Cuba', 'Tech', 'olajay@dfnt.com', 41000, 'Cage Lee'); \"\n",
    "    ) \n",
    "except psycopg2.Error as e:\n",
    "    print(f\"\\n{e}\\nERROR: Could not insert values into the Table\\n\") "
   ]
  },
  {
   "cell_type": "markdown",
   "id": "0a1617dd-0c71-44e1-a9ff-53d2cefe53d7",
   "metadata": {},
   "source": [
    "### Validating the Inserted Data are in the Table in the Database"
   ]
  },
  {
   "cell_type": "code",
   "execution_count": 10,
   "id": "16a33f14-3604-4ce6-8689-8098f94ae063",
   "metadata": {},
   "outputs": [
    {
     "name": "stdout",
     "output_type": "stream",
     "text": [
      "(1, 'Nick Tom', 31, 'Male', 'Paris-France', 'Data', 'nicktom@dfnt.com', Decimal('31000'), 'John Doe')\n",
      "(2, 'Tee Pee', 44, 'Male', 'Havana-Cuba', 'HR', 'teepee@dfnt.com', Decimal('36000'), 'Jane Mayne')\n",
      "(3, 'Rem Pink', 25, 'Female', 'Oregon-USA', 'Finance', 'rempink@dfnt.com', Decimal('57000'), 'Tay Fibee')\n",
      "(4, 'Fizz Lilly', 42, 'Female', 'Lisbon-Portugal', 'HR', 'lilfizz@dfnt.com', Decimal('67000'), 'Lisa Rosa')\n",
      "(5, 'Ola Jay', 31, 'Male', 'Lagos-Cuba', 'Tech', 'olajay@dfnt.com', Decimal('41000'), 'Cage Lee')\n"
     ]
    }
   ],
   "source": [
    "try:\n",
    "    cur.execute(\n",
    "        \"SELECT * FROM employee;\"\n",
    "    )\n",
    "except psycopg2.Error as e:\n",
    "    print(f\"\\n{e}\\nERROR: Could not retrieve values from the Table\\n\") \n",
    "    \n",
    "# Fetching the rows via the Cursor\n",
    "row = cur.fetchone()\n",
    "while row:\n",
    "    print(row)\n",
    "    row = cur.fetchone()"
   ]
  },
  {
   "cell_type": "markdown",
   "id": "80c0b072-3fd8-44c5-a8cf-7018889994c9",
   "metadata": {},
   "source": [
    "### Closing the Cursor and Terminating the Connection to the Database"
   ]
  },
  {
   "cell_type": "code",
   "execution_count": 11,
   "id": "b2858806-5e27-4b03-a1a8-64b22caf1e13",
   "metadata": {},
   "outputs": [],
   "source": [
    "cur.close()\n",
    "conn.close()"
   ]
  },
  {
   "cell_type": "code",
   "execution_count": null,
   "id": "2a9613fb-34ed-4bcb-8de0-1d7588045cfc",
   "metadata": {},
   "outputs": [],
   "source": []
  }
 ],
 "metadata": {
  "kernelspec": {
   "display_name": "Python 3 (ipykernel)",
   "language": "python",
   "name": "python3"
  },
  "language_info": {
   "codemirror_mode": {
    "name": "ipython",
    "version": 3
   },
   "file_extension": ".py",
   "mimetype": "text/x-python",
   "name": "python",
   "nbconvert_exporter": "python",
   "pygments_lexer": "ipython3",
   "version": "3.9.7"
  }
 },
 "nbformat": 4,
 "nbformat_minor": 5
}
